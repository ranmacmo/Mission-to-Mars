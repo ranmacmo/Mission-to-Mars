{
 "cells": [
  {
   "cell_type": "markdown",
   "source": [
    "## Automate browser with Splinter and extract HTML Code"
   ],
   "metadata": {
    "collapsed": false
   }
  },
  {
   "cell_type": "code",
   "execution_count": 14,
   "metadata": {
    "collapsed": true
   },
   "outputs": [],
   "source": [
    "# Import Splinter and BeautifulSoup\n",
    "from splinter import Browser\n",
    "from bs4 import BeautifulSoup as soup\n",
    "from webdriver_manager.chrome import ChromeDriverManager"
   ]
  },
  {
   "cell_type": "code",
   "execution_count": 15,
   "outputs": [],
   "source": [
    "# Take control of chrome\n",
    "executable_path = {'executable_path': ChromeDriverManager().install()}\n",
    "browser = Browser('chrome', **executable_path, headless=False)"
   ],
   "metadata": {
    "collapsed": false
   }
  },
  {
   "cell_type": "code",
   "execution_count": 16,
   "outputs": [
    {
     "data": {
      "text/plain": "True"
     },
     "execution_count": 16,
     "metadata": {},
     "output_type": "execute_result"
    }
   ],
   "source": [
    "# Visit the Mars NASA news site\n",
    "url = 'https://redplanetscience.com'\n",
    "browser.visit(url)\n",
    "\n",
    "# Optional delay for loading the page\n",
    "browser.is_element_present_by_css('div.list_text', wait_time=1)"
   ],
   "metadata": {
    "collapsed": false
   }
  },
  {
   "cell_type": "markdown",
   "source": [],
   "metadata": {
    "collapsed": false
   }
  },
  {
   "cell_type": "code",
   "execution_count": 17,
   "outputs": [
    {
     "data": {
      "text/plain": "<html><head>\n<meta charset=\"utf-8\"/>\n<meta content=\"width=device-width, initial-scale=1\" name=\"viewport\"/>\n<link crossorigin=\"anonymous\" href=\"https://cdn.jsdelivr.net/npm/bootstrap@5.0.0-beta1/dist/css/bootstrap.min.css\" integrity=\"sha384-giJF6kkoqNQ00vy+HMDP7azOuL0xtbfIcaT9wjKHr8RbDVddVHyTfAAsrekwKmP1\" rel=\"stylesheet\"/>\n<link href=\"css/font.css\" rel=\"stylesheet\" type=\"text/css\"/>\n<link href=\"css/app.css\" rel=\"stylesheet\" type=\"text/css\"/>\n<link crossorigin=\"anonymous\" href=\"https://pro.fontawesome.com/releases/v5.10.0/css/all.css\" integrity=\"sha384-AYmEC3Yw5cVb3ZcuHtOA93w35dYTsvhLPVnYs9eStHfGJvOvKxVfELGroGkvsg+p\" rel=\"stylesheet\"/>\n<title>News - Mars Exploration Program</title>\n</head>\n<body>\n<div class=\"col-md-12\">\n<div class=\"row\">\n<nav class=\"navbar navbar-expand-lg navbar-light fixed-top\">\n<div class=\"container-fluid\">\n<a class=\"navbar-brand\" href=\"#\">\n<img src=\"image/nasa.png\" width=\"80\"/><span class=\"logo\">MARS Planet Science</span>\n<span class=\"logo1\">Exploration Program</span>\n</a>\n<button aria-controls=\"navbarNav\" aria-expanded=\"false\" aria-label=\"Toggle navigation\" class=\"navbar-toggler\" data-bs-target=\"#navbarNav\" data-bs-toggle=\"collapse\" type=\"button\">\n<span class=\"navbar-toggler-icon\"></span>\n</button>\n<div class=\"collapse navbar-collapse justify-content-end\" id=\"navbarNav\">\n<ul class=\"navbar-nav\">\n<li class=\"nav-item\">\n<a aria-current=\"page\" class=\"nav-link active\" href=\"#\">The Red Planet</a>\n</li>\n<li class=\"nav-item\">\n<a class=\"nav-link\" href=\"#\">The Program</a>\n</li>\n<li class=\"nav-item\">\n<a class=\"nav-link\" href=\"#\">News &amp; Events</a>\n</li>\n<li class=\"nav-item\">\n<a class=\"nav-link\" href=\"#\">Multimedia</a>\n</li>\n<li class=\"nav-item\">\n<a class=\"nav-link\" href=\"#\">Missions</a>\n</li>\n<li class=\"nav-item\">\n<a class=\"nav-link\" href=\"#\">More</a>\n</li>\n<li class=\"nav-item nav_search\">\n<a class=\"nav-link\" href=\"#\"></a>\n</li>\n</ul>\n</div>\n</div>\n</nav>\n<section class=\"search\">\n<div class=\"container\">\n<h1>News</h1>\n<div class=\"col-md-12 filter\">\n<div class=\"row\">\n<div class=\"col-md-3 search_binder\">\n<input class=\"search_field\" name=\"search\" type=\"text\"/>\n<input class=\"search_submit\" name=\"search\" type=\"text\"/>\n</div>\n<div class=\"col-md-3\">\n<select aria-label=\"Default select example\" class=\"form-select\" id=\"year\">\n<option selected=\"\">Latest</option>\n<option>2020</option><option>2019</option></select>\n</div>\n<div class=\"col-md-3\">\n<select aria-label=\"Default select example\" class=\"form-select\" id=\"cat\">\n<option selected=\"\">All Categories</option>\n<option>Feature Stories</option><option>Press Releases</option><option>Status Reports</option></select>\n</div>\n<div class=\"col-md-3\">\n</div>\n</div>\n</div>\n</div>\n</section>\n<section class=\"image_and_description_container\">\n<div class=\"container\" id=\"news\">\n<div class=\"col-md-12\">\n<hr/>\n<div class=\"row\">\n<div class=\"col-md-4\">\n<div class=\"list_image\">\n<img src=\"https://mars.nasa.gov/system/news_items/list_view_images/8671_PIA23890-320.jpg\"/>\n</div>\n</div>\n<div class=\"col-md-8\">\n<div class=\"list_text\">\n<div class=\"list_date\">November 6, 2022</div>\n<div class=\"content_title\">NASA's Perseverance Rover Goes Through Trials by Fire, Ice, Light and Sound</div>\n<div class=\"article_teaser_body\">The agency's new Mars rover is put through a series of tests in vacuum chambers, acoustic chambers and more to get ready for the Red Planet.</div>\n</div>\n</div>\n</div>\n</div>\n<div class=\"col-md-12\">\n<hr/>\n<div class=\"row\">\n<div class=\"col-md-4\">\n<div class=\"list_image\">\n<img src=\"https://mars.nasa.gov/system/news_items/list_view_images/8657_1-PIA23884-320x240.jpg\"/>\n</div>\n</div>\n<div class=\"col-md-8\">\n<div class=\"list_text\">\n<div class=\"list_date\">November 5, 2022</div>\n<div class=\"content_title\">NASA's Perseverance Rover Mission Getting in Shape for Launch</div>\n<div class=\"article_teaser_body\">Stacking spacecraft components on top of each other is one of the final assembly steps before a mission launches to the Red Planet. </div>\n</div>\n</div>\n</div>\n</div>\n<div class=\"col-md-12\">\n<hr/>\n<div class=\"row\">\n<div class=\"col-md-4\">\n<div class=\"list_image\">\n<img src=\"https://mars.nasa.gov/system/news_items/list_view_images/8692_PIA23920-320x240.jpg\"/>\n</div>\n</div>\n<div class=\"col-md-8\">\n<div class=\"list_text\">\n<div class=\"list_date\">November 3, 2022</div>\n<div class=\"content_title\">NASA to Hold Mars 2020 Perseverance Rover Launch Briefing</div>\n<div class=\"article_teaser_body\">Learn more about the agency's next Red Planet mission during a live event on June 17.</div>\n</div>\n</div>\n</div>\n</div>\n<div class=\"col-md-12\">\n<hr/>\n<div class=\"row\">\n<div class=\"col-md-4\">\n<div class=\"list_image\">\n<img src=\"https://mars.nasa.gov/system/news_items/list_view_images/8682_SCS-16-MAIN-320.jpg\"/>\n</div>\n</div>\n<div class=\"col-md-8\">\n<div class=\"list_text\">\n<div class=\"list_date\">November 3, 2022</div>\n<div class=\"content_title\">The Extraordinary Sample-Gathering System of NASA's Perseverance Mars Rover</div>\n<div class=\"article_teaser_body\">Two astronauts collected Moon rocks on Apollo 11. It will take three robotic systems working together to gather up the first Mars rock samples for return to Earth.</div>\n</div>\n</div>\n</div>\n</div>\n<div class=\"col-md-12\">\n<hr/>\n<div class=\"row\">\n<div class=\"col-md-4\">\n<div class=\"list_image\">\n<img src=\"https://mars.nasa.gov/system/news_items/list_view_images/8817_PIA23180_320.gif\"/>\n</div>\n</div>\n<div class=\"col-md-8\">\n<div class=\"list_text\">\n<div class=\"list_date\">November 1, 2022</div>\n<div class=\"content_title\">3 Things We've Learned From NASA's Mars InSight </div>\n<div class=\"article_teaser_body\">Scientists are finding new mysteries since the geophysics mission landed two years ago.</div>\n</div>\n</div>\n</div>\n</div>\n<div class=\"col-md-12\">\n<hr/>\n<div class=\"row\">\n<div class=\"col-md-4\">\n<div class=\"list_image\">\n<img src=\"https://mars.nasa.gov/system/news_items/list_view_images/8568_PIA23515_annotated-globe-320x240.gif\"/>\n</div>\n</div>\n<div class=\"col-md-8\">\n<div class=\"list_text\">\n<div class=\"list_date\">November 1, 2022</div>\n<div class=\"content_title\">NASA's Treasure Map for Water Ice on Mars</div>\n<div class=\"article_teaser_body\">A new study identifies frozen water just below the Martian surface, where astronauts could easily dig it up.</div>\n</div>\n</div>\n</div>\n</div>\n<div class=\"col-md-12\">\n<hr/>\n<div class=\"row\">\n<div class=\"col-md-4\">\n<div class=\"list_image\">\n<img src=\"https://mars.nasa.gov/system/news_items/list_view_images/8801_20201118_mars2020-320x240.jpg\"/>\n</div>\n</div>\n<div class=\"col-md-8\">\n<div class=\"list_text\">\n<div class=\"list_date\">October 23, 2022</div>\n<div class=\"content_title\">Hear Audio From NASA's Perseverance As It Travels Through Deep Space</div>\n<div class=\"article_teaser_body\">The first to be rigged with microphones, the agency's latest Mars rover picked up the subtle sounds of its own inner workings during interplanetary flight.</div>\n</div>\n</div>\n</div>\n</div>\n<div class=\"col-md-12\">\n<hr/>\n<div class=\"row\">\n<div class=\"col-md-4\">\n<div class=\"list_image\">\n<img src=\"https://mars.nasa.gov/system/news_items/list_view_images/8504_insight20190822-226.gif\"/>\n</div>\n</div>\n<div class=\"col-md-8\">\n<div class=\"list_text\">\n<div class=\"list_date\">October 22, 2022</div>\n<div class=\"content_title\">NASA-JPL Names 'Rolling Stones Rock' on Mars</div>\n<div class=\"article_teaser_body\">NASA's Mars InSight mission honored one of the biggest bands of all time at Pasadena concert.</div>\n</div>\n</div>\n</div>\n</div>\n<div class=\"col-md-12\">\n<hr/>\n<div class=\"row\">\n<div class=\"col-md-4\">\n<div class=\"list_image\">\n<img src=\"https://mars.nasa.gov/system/news_items/list_view_images/8709_25105_PIA23985-320x240.jpg\"/>\n</div>\n</div>\n<div class=\"col-md-8\">\n<div class=\"list_text\">\n<div class=\"list_date\">October 22, 2022</div>\n<div class=\"content_title\">NASA's Perseverance Rover Attached to Atlas V Rocket</div>\n<div class=\"article_teaser_body\">Ready for its launch later in the month, the Mars-bound rover will touch terra firma no more.</div>\n</div>\n</div>\n</div>\n</div>\n<div class=\"col-md-12\">\n<hr/>\n<div class=\"row\">\n<div class=\"col-md-4\">\n<div class=\"list_image\">\n<img src=\"https://mars.nasa.gov/system/news_items/list_view_images/8737_24760_PIA23492-320x240.jpg\"/>\n</div>\n</div>\n<div class=\"col-md-8\">\n<div class=\"list_text\">\n<div class=\"list_date\">October 19, 2022</div>\n<div class=\"content_title\">NASA Establishes Board to Initially Review Mars Sample Return Plans</div>\n<div class=\"article_teaser_body\">The board will assist with analysis of current plans and goals for one of the most difficult missions humanity has ever undertaken.</div>\n</div>\n</div>\n</div>\n</div>\n<div class=\"col-md-12\">\n<hr/>\n<div class=\"row\">\n<div class=\"col-md-4\">\n<div class=\"list_image\">\n<img src=\"https://mars.nasa.gov/system/news_items/list_view_images/8716_PIA23499-320x240.jpg\"/>\n</div>\n</div>\n<div class=\"col-md-8\">\n<div class=\"list_text\">\n<div class=\"list_date\">October 14, 2022</div>\n<div class=\"content_title\">NASA to Broadcast Mars 2020 Perseverance Launch, Prelaunch Activities</div>\n<div class=\"article_teaser_body\">Starting July 27, news activities will cover everything from mission engineering and science to returning samples from Mars to, of course, the launch itself.</div>\n</div>\n</div>\n</div>\n</div>\n<div class=\"col-md-12\">\n<hr/>\n<div class=\"row\">\n<div class=\"col-md-4\">\n<div class=\"list_image\">\n<img src=\"https://mars.nasa.gov/system/news_items/list_view_images/8724_launchscreen-320x240.jpg\"/>\n</div>\n</div>\n<div class=\"col-md-8\">\n<div class=\"list_text\">\n<div class=\"list_date\">October 13, 2022</div>\n<div class=\"content_title\">NASA, ULA Launch Mars 2020 Perseverance Rover Mission to Red Planet</div>\n<div class=\"article_teaser_body\">The agency's Mars 2020 mission is on its way. It will land at Jezero Crater in about seven months, on Feb. 18, 2021. </div>\n</div>\n</div>\n</div>\n</div>\n<div class=\"col-md-12\">\n<hr/>\n<div class=\"row\">\n<div class=\"col-md-4\">\n<div class=\"list_image\">\n<img src=\"https://mars.nasa.gov/system/news_items/list_view_images/8675_Webby_main_320x240.jpg\"/>\n</div>\n</div>\n<div class=\"col-md-8\">\n<div class=\"list_text\">\n<div class=\"list_date\">October 10, 2022</div>\n<div class=\"content_title\">NASA Wins 4 Webbys, 4 People's Voice Awards</div>\n<div class=\"article_teaser_body\">Winners include the JPL-managed \"Send Your Name to Mars\" campaign, NASA's Global Climate Change website and Solar System Interactive.</div>\n</div>\n</div>\n</div>\n</div>\n<div class=\"col-md-12\">\n<hr/>\n<div class=\"row\">\n<div class=\"col-md-4\">\n<div class=\"list_image\">\n<img src=\"https://mars.nasa.gov/system/news_items/list_view_images/8704_PIA23973-320x240.jpg\"/>\n</div>\n</div>\n<div class=\"col-md-8\">\n<div class=\"list_text\">\n<div class=\"list_date\">October 6, 2022</div>\n<div class=\"content_title\">Curiosity Mars Rover's Summer Road Trip Has Begun</div>\n<div class=\"article_teaser_body\">After more than a year in the \"clay-bearing unit,\" Curiosity is making a mile-long journey around some deep sand so that it can explore higher up Mount Sharp.</div>\n</div>\n</div>\n</div>\n</div>\n<div class=\"col-md-12\">\n<hr/>\n<div class=\"row\">\n<div class=\"col-md-4\">\n<div class=\"list_image\">\n<img src=\"https://mars.nasa.gov/system/news_items/list_view_images/8545_24679_PIA23470-1041_320x240px.jpg\"/>\n</div>\n</div>\n<div class=\"col-md-8\">\n<div class=\"list_text\">\n<div class=\"list_date\">October 5, 2022</div>\n<div class=\"content_title\">NASA's Mars 2020 Heads Into the Test Chamber</div>\n<div class=\"article_teaser_body\">In this time-lapse video taken at JPL, engineers move the Mars 2020 rover into a large vacuum chamber for testing in Mars-like environmental conditions.</div>\n</div>\n</div>\n</div>\n</div>\n</div>\n<hr class=\"container\" style=\"margin: 25px auto;width: 83%;\"/>\n<button class=\"btn disable\" id=\"more\" onclick=\"populateContent()\">More</button>\n</section>\n<section class=\"last_news\">\n<div class=\"container\">\n<div class=\"row\">\n<div class=\"col-12\">\n<h2>You Might Also Like</h2>\n</div>\n<!--  <a class=\" prev\" href=\"#carouselExampleIndicators2\" role=\"button\" data-slide=\"prev\">\n                  <i class=\"fas fa-angle-left\"></i>\n                  </a>\n                  <a class=\" next\" href=\"#carouselExampleIndicators2\" role=\"button\" data-slide=\"next\">\n                  <i class=\"fas fa-angle-right\"></i>\n                  </a> -->\n<div class=\"col-12\">\n<div class=\"carousel slide\" data-ride=\"carousel\" id=\"carouselExampleIndicators2\">\n<div class=\"carousel-inner\">\n<div class=\"carousel-item active\">\n<div class=\"row\">\n<div class=\"col-md-4 mb-3\">\n<div class=\"card\">\n<img alt=\"100%x280\" class=\"img-fluid\" src=\"https://mars.nasa.gov/system/news_items/main_images/8716_PIA23499-16.jpg\"/>\n<div class=\"card-body\">\n<p class=\"card-text\">NASA to Broadcast Mars 2020 Perseverance Launch, Prelaunch Activities</p>\n</div>\n</div>\n</div>\n<div class=\"col-md-4 mb-3\">\n<div class=\"card\">\n<img alt=\"100%x280\" class=\"img-fluid\" src=\"https://mars.nasa.gov/system/news_items/main_images/8716_PIA23499-16.jpg\"/>\n<div class=\"card-body\">\n<p class=\"card-text\">The Launch Is Approaching for NASA's Next Mars Rover, Perseverance</p>\n</div>\n</div>\n</div>\n<div class=\"col-md-4 mb-3\">\n<div class=\"card\">\n<img alt=\"100%x280\" class=\"img-fluid\" src=\"https://mars.nasa.gov/system/news_items/main_images/8692_PIA23920-web.jpg\"/>\n<div class=\"card-body\">\n<p class=\"card-text\">NASA to Hold Mars 2020 Perseverance Rover Launch Briefing</p>\n</div>\n</div>\n</div>\n</div>\n</div>\n<div class=\"carousel-item\">\n<div class=\"row\">\n<div class=\"col-md-4 mb-3\">\n<div class=\"card\">\n<img alt=\"100%x280\" class=\"img-fluid\" src=\"https://images.unsplash.com/photo-1532771098148-525cefe10c23?ixlib=rb-0.3.5&amp;q=80&amp;fm=jpg&amp;crop=entropy&amp;cs=tinysrgb&amp;w=1080&amp;fit=max&amp;ixid=eyJhcHBfaWQiOjMyMDc0fQ&amp;s=3f317c1f7a16116dec454fbc267dd8e4\"/>\n<div class=\"card-body\">\n<p class=\"card-text\">With supporting text below as a natural lead-in to additional content.</p>\n</div>\n</div>\n</div>\n<div class=\"col-md-4 mb-3\">\n<div class=\"card\">\n<img alt=\"100%x280\" class=\"img-fluid\" src=\"https://images.unsplash.com/photo-1532715088550-62f09305f765?ixlib=rb-0.3.5&amp;q=80&amp;fm=jpg&amp;crop=entropy&amp;cs=tinysrgb&amp;w=1080&amp;fit=max&amp;ixid=eyJhcHBfaWQiOjMyMDc0fQ&amp;s=ebadb044b374504ef8e81bdec4d0e840\"/>\n<div class=\"card-body\">\n<p class=\"card-text\">With supporting text below as a natural lead-in to additional content.</p>\n</div>\n</div>\n</div>\n<div class=\"col-md-4 mb-3\">\n<div class=\"card\">\n<img alt=\"100%x280\" class=\"img-fluid\" src=\"https://images.unsplash.com/photo-1506197603052-3cc9c3a201bd?ixlib=rb-0.3.5&amp;q=80&amp;fm=jpg&amp;crop=entropy&amp;cs=tinysrgb&amp;w=1080&amp;fit=max&amp;ixid=eyJhcHBfaWQiOjMyMDc0fQ&amp;s=0754ab085804ae8a3b562548e6b4aa2e\"/>\n<div class=\"card-body\">\n<p class=\"card-text\">With supporting text below as a natural lead-in to additional content.</p>\n</div>\n</div>\n</div>\n</div>\n</div>\n<div class=\"carousel-item\">\n<div class=\"row\">\n<div class=\"col-md-4 mb-3\">\n<div class=\"card\">\n<img alt=\"100%x280\" class=\"img-fluid\" src=\"https://images.unsplash.com/photo-1507525428034-b723cf961d3e?ixlib=rb-0.3.5&amp;q=80&amp;fm=jpg&amp;crop=entropy&amp;cs=tinysrgb&amp;w=1080&amp;fit=max&amp;ixid=eyJhcHBfaWQiOjMyMDc0fQ&amp;s=ee8417f0ea2a50d53a12665820b54e23\"/>\n<div class=\"card-body\">\n<p class=\"card-text\">With supporting text below as a natural lead-in to additional content.</p>\n</div>\n</div>\n</div>\n<div class=\"col-md-4 mb-3\">\n<div class=\"card\">\n<img alt=\"100%x280\" class=\"img-fluid\" src=\"https://images.unsplash.com/photo-1532777946373-b6783242f211?ixlib=rb-0.3.5&amp;q=80&amp;fm=jpg&amp;crop=entropy&amp;cs=tinysrgb&amp;w=1080&amp;fit=max&amp;ixid=eyJhcHBfaWQiOjMyMDc0fQ&amp;s=8ac55cf3a68785643998730839663129\"/>\n<div class=\"card-body\">\n<p class=\"card-text\">With supporting text below as a natural lead-in to additional content.</p>\n</div>\n</div>\n</div>\n<div class=\"col-md-4 mb-3\">\n<div class=\"card\">\n<img alt=\"100%x280\" class=\"img-fluid\" src=\"https://images.unsplash.com/photo-1532763303805-529d595877c5?ixlib=rb-0.3.5&amp;q=80&amp;fm=jpg&amp;crop=entropy&amp;cs=tinysrgb&amp;w=1080&amp;fit=max&amp;ixid=eyJhcHBfaWQiOjMyMDc0fQ&amp;s=5ee4fd5d19b40f93eadb21871757eda6\"/>\n<div class=\"card-body\">\n<p class=\"card-text\">With supporting text below as a natural lead-in to additional content.</p>\n</div>\n</div>\n</div>\n</div>\n</div>\n</div>\n</div>\n</div>\n</div>\n</div>\n</section>\n<section class=\"footer\">\n<div class=\"container\">\n<div class=\"col-md-12\">\n<div class=\"row\">\n<div class=\"col-md-3\">\n<h5>The Red Planet</h5>\n<ul>\n<li>Dashboard</li>\n<li>Science Goals</li>\n<li>The Planet</li>\n</ul>\n</div>\n<div class=\"col-md-3\">\n<h5>The Program</h5>\n<ul>\n<li>Mission Statement</li>\n<li>About the Program</li>\n<li>Organization Why Mars?</li>\n</ul>\n</div>\n<div class=\"col-md-3\">\n<h5>Multimedia</h5>\n<ul>\n<li>Images</li>\n<li>Videos</li>\n<li>More Resources</li>\n</ul>\n</div>\n<div class=\"col-md-3\">\n<h5>Missions</h5>\n<ul>\n<li>Past</li>\n<li>Present</li>\n<li>Future</li>\n</ul>\n</div>\n</div>\n</div>\n</div>\n</section>\n<script src=\"https://code.jquery.com/jquery-1.12.4.min.js\" type=\"text/javascript\"></script>\n<script src=\"https://cdn.jsdelivr.net/npm/@popperjs/core@2.5.4/dist/umd/popper.min.js\"></script>\n<script src=\"https://cdn.jsdelivr.net/npm/bootstrap@5.0.0-beta1/dist/js/bootstrap.min.js\"></script>\n<script src=\"js/app.js\"></script>\n</div></div></body></html>"
     },
     "execution_count": 17,
     "metadata": {},
     "output_type": "execute_result"
    }
   ],
   "source": [
    "# Load HTML into BeautifulSoup Soup\n",
    "html = browser.html\n",
    "news_soup = soup(html, 'html.parser')\n",
    "\n",
    "# Check HTML Load\n",
    "news_soup"
   ],
   "metadata": {
    "collapsed": false
   }
  },
  {
   "cell_type": "markdown",
   "source": [
    "## Scrape Title and Preview of News Articles"
   ],
   "metadata": {
    "collapsed": false
   }
  },
  {
   "cell_type": "code",
   "execution_count": 18,
   "outputs": [],
   "source": [
    "# titles = news_soup.find_all('div', class_='content_title')\n",
    "# teasers = news_soup.find_all('div', class_='article_teaser_body')\n",
    "\n",
    "articles = news_soup.find_all('div', class_='list_text')"
   ],
   "metadata": {
    "collapsed": false
   }
  },
  {
   "cell_type": "markdown",
   "source": [
    "## Collect scraped information into a list of dictionaries"
   ],
   "metadata": {
    "collapsed": false
   }
  },
  {
   "cell_type": "code",
   "execution_count": 19,
   "outputs": [],
   "source": [
    "# Create list to collect dictionary entries of title and preview\n",
    "article_list = []"
   ],
   "metadata": {
    "collapsed": false
   }
  },
  {
   "cell_type": "code",
   "execution_count": 20,
   "outputs": [
    {
     "data": {
      "text/plain": "[{'title': \"NASA's Perseverance Rover Goes Through Trials by Fire, Ice, Light and Sound\",\n  'preview': \"The agency's new Mars rover is put through a series of tests in vacuum chambers, acoustic chambers and more to get ready for the Red Planet.\"},\n {'title': \"NASA's Perseverance Rover Mission Getting in Shape for Launch\",\n  'preview': 'Stacking spacecraft components on top of each other is one of the final assembly steps before a mission launches to the Red Planet. '},\n {'title': 'NASA to Hold Mars 2020 Perseverance Rover Launch Briefing',\n  'preview': \"Learn more about the agency's next Red Planet mission during a live event on June 17.\"},\n {'title': \"The Extraordinary Sample-Gathering System of NASA's Perseverance Mars Rover\",\n  'preview': 'Two astronauts collected Moon rocks on Apollo 11. It will take three robotic systems working together to gather up the first Mars rock samples for return to Earth.'},\n {'title': \"3 Things We've Learned From NASA's Mars InSight \",\n  'preview': 'Scientists are finding new mysteries since the geophysics mission landed two years ago.'},\n {'title': \"NASA's Treasure Map for Water Ice on Mars\",\n  'preview': 'A new study identifies frozen water just below the Martian surface, where astronauts could easily dig it up.'},\n {'title': \"Hear Audio From NASA's Perseverance As It Travels Through Deep Space\",\n  'preview': \"The first to be rigged with microphones, the agency's latest Mars rover picked up the subtle sounds of its own inner workings during interplanetary flight.\"},\n {'title': \"NASA-JPL Names 'Rolling Stones Rock' on Mars\",\n  'preview': \"NASA's Mars InSight mission honored one of the biggest bands of all time at Pasadena concert.\"},\n {'title': \"NASA's Perseverance Rover Attached to Atlas V Rocket\",\n  'preview': 'Ready for its launch later in the month, the Mars-bound rover will touch terra firma no more.'},\n {'title': 'NASA Establishes Board to Initially Review Mars Sample Return Plans',\n  'preview': 'The board will assist with analysis of current plans and goals for one of the most difficult missions humanity has ever undertaken.'},\n {'title': 'NASA to Broadcast Mars 2020 Perseverance Launch, Prelaunch Activities',\n  'preview': 'Starting July 27, news activities will cover everything from mission engineering and science to returning samples from Mars to, of course, the launch itself.'},\n {'title': 'NASA, ULA Launch Mars 2020 Perseverance Rover Mission to Red Planet',\n  'preview': \"The agency's Mars 2020 mission is on its way. It will land at Jezero Crater in about seven months, on Feb. 18, 2021. \"},\n {'title': \"NASA Wins 4 Webbys, 4 People's Voice Awards\",\n  'preview': 'Winners include the JPL-managed \"Send Your Name to Mars\" campaign, NASA\\'s Global Climate Change website and Solar System Interactive.'},\n {'title': \"Curiosity Mars Rover's Summer Road Trip Has Begun\",\n  'preview': 'After more than a year in the \"clay-bearing unit,\" Curiosity is making a mile-long journey around some deep sand so that it can explore higher up Mount Sharp.'},\n {'title': \"NASA's Mars 2020 Heads Into the Test Chamber\",\n  'preview': 'In this time-lapse video taken at JPL, engineers move the Mars 2020 rover into a large vacuum chamber for testing in Mars-like environmental conditions.'}]"
     },
     "execution_count": 20,
     "metadata": {},
     "output_type": "execute_result"
    }
   ],
   "source": [
    "for article in articles:\n",
    "    title = article.find('div', class_='content_title').text\n",
    "    preview = article.find('div', class_='article_teaser_body').text\n",
    "    article_dict = {}\n",
    "    article_dict[\"title\"] = title\n",
    "    article_dict[\"preview\"] = preview\n",
    "    article_list.append(article_dict)\n",
    "\n",
    "article_list"
   ],
   "metadata": {
    "collapsed": false
   }
  },
  {
   "cell_type": "code",
   "execution_count": 21,
   "outputs": [],
   "source": [
    "browser.quit()"
   ],
   "metadata": {
    "collapsed": false
   }
  }
 ],
 "metadata": {
  "kernelspec": {
   "display_name": "Python 3",
   "language": "python",
   "name": "python3"
  },
  "language_info": {
   "codemirror_mode": {
    "name": "ipython",
    "version": 2
   },
   "file_extension": ".py",
   "mimetype": "text/x-python",
   "name": "python",
   "nbconvert_exporter": "python",
   "pygments_lexer": "ipython2",
   "version": "2.7.6"
  }
 },
 "nbformat": 4,
 "nbformat_minor": 0
}

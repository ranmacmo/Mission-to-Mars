{
 "cells": [
  {
   "cell_type": "markdown",
   "source": [
    "## Scrape HTML table into Panda DataFrame"
   ],
   "metadata": {
    "collapsed": false
   }
  },
  {
   "cell_type": "code",
   "execution_count": 168,
   "metadata": {
    "collapsed": true
   },
   "outputs": [],
   "source": [
    "# Import Splinter and BeautifulSoup\n",
    "from splinter import Browser\n",
    "from bs4 import BeautifulSoup as soup\n",
    "from webdriver_manager.chrome import ChromeDriverManager\n",
    "import pandas as pd"
   ]
  },
  {
   "cell_type": "code",
   "execution_count": 169,
   "outputs": [],
   "source": [
    "executable_path = {'executable_path': ChromeDriverManager().install()}\n",
    "browser = Browser('chrome', **executable_path, headless=False)"
   ],
   "metadata": {
    "collapsed": false
   }
  },
  {
   "cell_type": "code",
   "execution_count": 170,
   "outputs": [
    {
     "data": {
      "text/plain": "True"
     },
     "execution_count": 170,
     "metadata": {},
     "output_type": "execute_result"
    }
   ],
   "source": [
    "# Visit the Mars Temperature Data Site\n",
    "url = 'https://data-class-mars-challenge.s3.amazonaws.com/Mars/index.html'\n",
    "browser.visit(url)\n",
    "\n",
    "# Optional delay for loading the page\n",
    "browser.is_element_present_by_css('table.table', wait_time=2)"
   ],
   "metadata": {
    "collapsed": false
   }
  },
  {
   "cell_type": "code",
   "execution_count": 171,
   "outputs": [],
   "source": [
    "html = browser.html\n",
    "mission_soup = soup(html, 'html.parser')"
   ],
   "metadata": {
    "collapsed": false
   }
  },
  {
   "cell_type": "code",
   "execution_count": 172,
   "outputs": [
    {
     "name": "stdout",
     "output_type": "stream",
     "text": [
      "Classes of each table:\n",
      "['table']\n"
     ]
    }
   ],
   "source": [
    "print('Classes of each table:')\n",
    "for table in mission_soup.find_all('table'):\n",
    "    print(table.get('class'))"
   ],
   "metadata": {
    "collapsed": false
   }
  },
  {
   "cell_type": "code",
   "execution_count": 173,
   "outputs": [],
   "source": [
    "table = mission_soup.find('table')"
   ],
   "metadata": {
    "collapsed": false
   }
  },
  {
   "cell_type": "markdown",
   "source": [
    "## Create list for table data"
   ],
   "metadata": {
    "collapsed": false
   }
  },
  {
   "cell_type": "code",
   "execution_count": 174,
   "outputs": [],
   "source": [
    "mars_list = []\n",
    "# Collect table data\n",
    "for row in table.tbody.find_all('tr'):\n",
    "    columns = row.find_all('td')\n",
    "\n",
    "    if (columns != []):\n",
    "        id = columns[0].text.strip()\n",
    "        terrestrial_date = columns[1].text.strip()\n",
    "        sol = columns[2].text.strip()\n",
    "        ls = columns[3].text.strip()\n",
    "        month = columns[4].text.strip()\n",
    "        min_temp = columns[5].text.strip()\n",
    "        pressure = columns[6].text.strip()\n",
    "\n",
    "        mars_list.append({'id': id, 'terrestrial_date': terrestrial_date,'sol': sol, 'ls' : ls , 'month' : month, 'min_temp' : min_temp,'pressure': pressure })"
   ],
   "metadata": {
    "collapsed": false
   }
  },
  {
   "cell_type": "markdown",
   "source": [
    "## Create Data Frame from list data"
   ],
   "metadata": {
    "collapsed": false
   }
  },
  {
   "cell_type": "code",
   "execution_count": 175,
   "outputs": [
    {
     "data": {
      "text/plain": "        id terrestrial_date   sol   ls month min_temp pressure\n0        2       2012-08-16    10  155     6    -75.0    739.0\n1       13       2012-08-17    11  156     6    -76.0    740.0\n2       24       2012-08-18    12  156     6    -76.0    741.0\n3       35       2012-08-19    13  157     6    -74.0    732.0\n4       46       2012-08-20    14  157     6    -74.0    740.0\n...    ...              ...   ...  ...   ...      ...      ...\n1862  1889       2018-02-23  1973  133     5    -78.0    730.0\n1863  1892       2018-02-24  1974  134     5    -77.0    729.0\n1864  1894       2018-02-25  1975  134     5    -76.0    729.0\n1865  1893       2018-02-26  1976  135     5    -77.0    728.0\n1866  1895       2018-02-27  1977  135     5    -77.0    727.0\n\n[1867 rows x 7 columns]",
      "text/html": "<div>\n<style scoped>\n    .dataframe tbody tr th:only-of-type {\n        vertical-align: middle;\n    }\n\n    .dataframe tbody tr th {\n        vertical-align: top;\n    }\n\n    .dataframe thead th {\n        text-align: right;\n    }\n</style>\n<table border=\"1\" class=\"dataframe\">\n  <thead>\n    <tr style=\"text-align: right;\">\n      <th></th>\n      <th>id</th>\n      <th>terrestrial_date</th>\n      <th>sol</th>\n      <th>ls</th>\n      <th>month</th>\n      <th>min_temp</th>\n      <th>pressure</th>\n    </tr>\n  </thead>\n  <tbody>\n    <tr>\n      <th>0</th>\n      <td>2</td>\n      <td>2012-08-16</td>\n      <td>10</td>\n      <td>155</td>\n      <td>6</td>\n      <td>-75.0</td>\n      <td>739.0</td>\n    </tr>\n    <tr>\n      <th>1</th>\n      <td>13</td>\n      <td>2012-08-17</td>\n      <td>11</td>\n      <td>156</td>\n      <td>6</td>\n      <td>-76.0</td>\n      <td>740.0</td>\n    </tr>\n    <tr>\n      <th>2</th>\n      <td>24</td>\n      <td>2012-08-18</td>\n      <td>12</td>\n      <td>156</td>\n      <td>6</td>\n      <td>-76.0</td>\n      <td>741.0</td>\n    </tr>\n    <tr>\n      <th>3</th>\n      <td>35</td>\n      <td>2012-08-19</td>\n      <td>13</td>\n      <td>157</td>\n      <td>6</td>\n      <td>-74.0</td>\n      <td>732.0</td>\n    </tr>\n    <tr>\n      <th>4</th>\n      <td>46</td>\n      <td>2012-08-20</td>\n      <td>14</td>\n      <td>157</td>\n      <td>6</td>\n      <td>-74.0</td>\n      <td>740.0</td>\n    </tr>\n    <tr>\n      <th>...</th>\n      <td>...</td>\n      <td>...</td>\n      <td>...</td>\n      <td>...</td>\n      <td>...</td>\n      <td>...</td>\n      <td>...</td>\n    </tr>\n    <tr>\n      <th>1862</th>\n      <td>1889</td>\n      <td>2018-02-23</td>\n      <td>1973</td>\n      <td>133</td>\n      <td>5</td>\n      <td>-78.0</td>\n      <td>730.0</td>\n    </tr>\n    <tr>\n      <th>1863</th>\n      <td>1892</td>\n      <td>2018-02-24</td>\n      <td>1974</td>\n      <td>134</td>\n      <td>5</td>\n      <td>-77.0</td>\n      <td>729.0</td>\n    </tr>\n    <tr>\n      <th>1864</th>\n      <td>1894</td>\n      <td>2018-02-25</td>\n      <td>1975</td>\n      <td>134</td>\n      <td>5</td>\n      <td>-76.0</td>\n      <td>729.0</td>\n    </tr>\n    <tr>\n      <th>1865</th>\n      <td>1893</td>\n      <td>2018-02-26</td>\n      <td>1976</td>\n      <td>135</td>\n      <td>5</td>\n      <td>-77.0</td>\n      <td>728.0</td>\n    </tr>\n    <tr>\n      <th>1866</th>\n      <td>1895</td>\n      <td>2018-02-27</td>\n      <td>1977</td>\n      <td>135</td>\n      <td>5</td>\n      <td>-77.0</td>\n      <td>727.0</td>\n    </tr>\n  </tbody>\n</table>\n<p>1867 rows × 7 columns</p>\n</div>"
     },
     "execution_count": 175,
     "metadata": {},
     "output_type": "execute_result"
    }
   ],
   "source": [
    "mars_df = pd.DataFrame(mars_list)\n",
    "mars_df.dtypes\n",
    "mars_df"
   ],
   "metadata": {
    "collapsed": false
   }
  },
  {
   "cell_type": "code",
   "execution_count": 176,
   "outputs": [
    {
     "data": {
      "text/plain": "id                           int64\nterrestrial_date    datetime64[ns]\nsol                          int64\nls                           int64\nmonth                        int64\nmin_temp                   float64\npressure                   float64\ndtype: object"
     },
     "execution_count": 176,
     "metadata": {},
     "output_type": "execute_result"
    }
   ],
   "source": [
    "mars_df = mars_df.astype({\"id\": int, \"pressure\": float, 'min_temp': float, 'sol': int, 'ls' :int, 'month' : int})\n",
    "mars_df['terrestrial_date'] = pd.to_datetime(mars_df['terrestrial_date'])\n",
    "\n",
    "mars_df.dtypes"
   ],
   "metadata": {
    "collapsed": false
   }
  },
  {
   "cell_type": "markdown",
   "source": [
    "## Export DataFrame to CSV File"
   ],
   "metadata": {
    "collapsed": false
   }
  },
  {
   "cell_type": "code",
   "execution_count": 177,
   "outputs": [],
   "source": [
    "mars_df.to_csv('data/mars_data.csv', index=False)"
   ],
   "metadata": {
    "collapsed": false
   }
  },
  {
   "cell_type": "markdown",
   "source": [
    "## How Many Months Exist on Mars\n",
    "Get unique lis of month to analyse"
   ],
   "metadata": {
    "collapsed": false
   }
  },
  {
   "cell_type": "code",
   "execution_count": 178,
   "outputs": [
    {
     "data": {
      "text/plain": "[6, 7, 8, 9, 10, 11, 12, 1, 2, 3, 4, 5]"
     },
     "execution_count": 178,
     "metadata": {},
     "output_type": "execute_result"
    }
   ],
   "source": [
    "mars_df[\"month\"].unique().tolist()"
   ],
   "metadata": {
    "collapsed": false
   }
  },
  {
   "cell_type": "markdown",
   "source": [
    "> There are 12 months based on the data"
   ],
   "metadata": {
    "collapsed": false
   }
  },
  {
   "cell_type": "markdown",
   "source": [
    "## What month on average has the lowest and highest temperature"
   ],
   "metadata": {
    "collapsed": false
   }
  },
  {
   "cell_type": "code",
   "execution_count": 179,
   "outputs": [
    {
     "data": {
      "text/plain": "month\n3    -83.307292\n4    -82.747423\n2    -79.932584\n5    -79.308725\n1    -77.160920\n6    -75.299320\n12   -74.451807\n7    -72.281690\n11   -71.985507\n10   -71.982143\n9    -69.171642\n8    -68.382979\nName: min_temp, dtype: float64"
     },
     "execution_count": 179,
     "metadata": {},
     "output_type": "execute_result"
    }
   ],
   "source": [
    "# Group min temperature by month and sort from lowest to highest\n",
    "mars_df.groupby('month')['min_temp'].mean().sort_values(ascending=True)"
   ],
   "metadata": {
    "collapsed": false
   }
  },
  {
   "cell_type": "code",
   "execution_count": 180,
   "outputs": [
    {
     "data": {
      "text/plain": "Text(0, 0.5, 'Min Temperature')"
     },
     "execution_count": 180,
     "metadata": {},
     "output_type": "execute_result"
    },
    {
     "data": {
      "text/plain": "<Figure size 640x480 with 1 Axes>",
      "image/png": "[encoded data removed]"
     },
     "metadata": {},
     "output_type": "display_data"
    }
   ],
   "source": [
    "# Plot the temperature by month lowest to highest\n",
    "import matplotlib.pyplot as plot\n",
    "mars_df.groupby('month')['min_temp'].mean().sort_values(ascending=True).plot(kind = \"bar\", title = \"Low to High Min Temperature by Month\")\n",
    "plot.xlabel('Month')\n",
    "plot.ylabel('Min Temperature')"
   ],
   "metadata": {
    "collapsed": false
   }
  },
  {
   "cell_type": "markdown",
   "source": [
    "> The lowest temperature month on average is month 3\n",
    "> The highest temperature month on aver is month 8"
   ],
   "metadata": {
    "collapsed": false
   }
  },
  {
   "cell_type": "markdown",
   "source": [
    "## What months on average has the lowest and highest  atmospheric pressure"
   ],
   "metadata": {
    "collapsed": false
   }
  },
  {
   "cell_type": "code",
   "execution_count": 181,
   "outputs": [
    {
     "data": {
      "text/plain": "month\n6     745.054422\n5     748.557047\n7     795.105634\n4     806.329897\n12    842.156627\n11    857.014493\n1     862.488506\n8     873.829787\n3     877.322917\n10    887.312500\n2     889.455056\n9     913.305970\nName: pressure, dtype: float64"
     },
     "execution_count": 181,
     "metadata": {},
     "output_type": "execute_result"
    }
   ],
   "source": [
    "mars_df.groupby('month')['pressure'].mean().sort_values(ascending=True)"
   ],
   "metadata": {
    "collapsed": false
   }
  },
  {
   "cell_type": "code",
   "execution_count": 182,
   "outputs": [
    {
     "data": {
      "text/plain": "Text(0, 0.5, 'Pressure')"
     },
     "execution_count": 182,
     "metadata": {},
     "output_type": "execute_result"
    },
    {
     "data": {
      "text/plain": "<Figure size 640x480 with 1 Axes>",
      "image/png": "[encoded data removed]"
     },
     "metadata": {},
     "output_type": "display_data"
    }
   ],
   "source": [
    "mars_df.groupby('month')['pressure'].mean().sort_values(ascending=True).plot(kind = \"bar\", title = \"Low to High Pressure by Month\")\n",
    "plot.xlabel(\"Month\")\n",
    "plot.ylabel(\"Pressure\")"
   ],
   "metadata": {
    "collapsed": false
   }
  },
  {
   "cell_type": "markdown",
   "source": [
    "> The lowest pressure month on average is month 6\n",
    "> The highest pressure month on average is month 9"
   ],
   "metadata": {
    "collapsed": false
   }
  },
  {
   "cell_type": "markdown",
   "source": [
    "## How many terrestrial days exist in a Martian Year?"
   ],
   "metadata": {
    "collapsed": false
   }
  },
  {
   "cell_type": "code",
   "execution_count": 183,
   "outputs": [
    {
     "data": {
      "text/plain": "Timestamp('2013-08-01 00:00:00')"
     },
     "execution_count": 183,
     "metadata": {},
     "output_type": "execute_result"
    }
   ],
   "source": [
    "# Get terrestrial first date of start of first cycle around sun\n",
    "\n",
    "from datetime import datetime, date, timedelta\n",
    "\n",
    "ter_start_date = mars_df.loc[(mars_df.ls == 0)][\"terrestrial_date\"].min()\n",
    "\n",
    "## Offset few days to account for multiple starting entries at the same ls\n",
    "offset_ter_start_date = ter_start_date + timedelta(days= 10 )\n",
    "ter_start_date"
   ],
   "metadata": {
    "collapsed": false
   }
  },
  {
   "cell_type": "code",
   "execution_count": 184,
   "outputs": [
    {
     "data": {
      "text/plain": "Timestamp('2015-06-19 00:00:00')"
     },
     "execution_count": 184,
     "metadata": {},
     "output_type": "execute_result"
    }
   ],
   "source": [
    "# Get terrestrial last date of end of first cycle around sun\n",
    "ter_end_date = mars_df.loc[(mars_df.terrestrial_date > offset_ter_start_date) & (mars_df.ls == 0)][\"terrestrial_date\"].min()\n",
    "ter_end_date"
   ],
   "metadata": {
    "collapsed": false
   }
  },
  {
   "cell_type": "code",
   "execution_count": 185,
   "outputs": [
    {
     "data": {
      "text/plain": "Timedelta('687 days 00:00:00')"
     },
     "execution_count": 185,
     "metadata": {},
     "output_type": "execute_result"
    }
   ],
   "source": [
    "ter_end_date - ter_start_date"
   ],
   "metadata": {
    "collapsed": false
   }
  },
  {
   "cell_type": "markdown",
   "source": [
    "> There are 687 days in a Martian Year based on the data"
   ],
   "metadata": {
    "collapsed": false
   }
  },
  {
   "cell_type": "markdown",
   "source": [
    "## Show graphical chart of min temperature by terrestrial day"
   ],
   "metadata": {
    "collapsed": false
   }
  },
  {
   "cell_type": "code",
   "execution_count": 186,
   "outputs": [
    {
     "data": {
      "text/plain": "Text(0, 0.5, 'Average Min Temperature')"
     },
     "execution_count": 186,
     "metadata": {},
     "output_type": "execute_result"
    },
    {
     "data": {
      "text/plain": "<Figure size 640x480 with 1 Axes>",
      "image/png": "[encoded data removed]"
     },
     "metadata": {},
     "output_type": "display_data"
    }
   ],
   "source": [
    "mars_df.groupby('terrestrial_date')['min_temp'].mean().plot(kind = \"line\", title = \"Min Temperature over Terrestrial Date\")\n",
    "plot.xlabel(\"Terrestrial Date\")\n",
    "plot.ylabel(\"Average Min Temperature\")"
   ],
   "metadata": {
    "collapsed": false
   }
  },
  {
   "cell_type": "code",
   "execution_count": 187,
   "outputs": [
    {
     "data": {
      "text/plain": "<bound method BaseWebDriver.quit of <splinter.driver.webdriver.chrome.WebDriver object at 0x7ff100883790>>"
     },
     "execution_count": 187,
     "metadata": {},
     "output_type": "execute_result"
    }
   ],
   "source": [
    "browser.quit"
   ],
   "metadata": {
    "collapsed": false
   }
  }
 ],
 "metadata": {
  "kernelspec": {
   "display_name": "Python 3",
   "language": "python",
   "name": "python3"
  },
  "language_info": {
   "codemirror_mode": {
    "name": "ipython",
    "version": 2
   },
   "file_extension": ".py",
   "mimetype": "text/x-python",
   "name": "python",
   "nbconvert_exporter": "python",
   "pygments_lexer": "ipython2",
   "version": "2.7.6"
  }
 },
 "nbformat": 4,
 "nbformat_minor": 0
}
